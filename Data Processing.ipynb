{
 "cells": [
  {
   "cell_type": "markdown",
   "metadata": {},
   "source": [
    "# Toronto Job vacancy processing"
   ]
  },
  {
   "cell_type": "code",
   "execution_count": 180,
   "metadata": {},
   "outputs": [],
   "source": [
    "import pandas as pd\n",
    "import numpy as np\n",
    "import re"
   ]
  },
  {
   "cell_type": "code",
   "execution_count": 181,
   "metadata": {
    "scrolled": true
   },
   "outputs": [],
   "source": [
    "# Read in csv file\n",
    "job_vacancy_raw_df = pd.read_csv(\"job_vacancy_raw.csv\")\n",
    "\n",
    "# Make transpose of the dataframe\n",
    "job_vacancy_raw_df_transpose = job_vacancy_raw_df.transpose()\n",
    "\n",
    "# Clean and filter the dataframe (only Job vacancy left), process the header\n",
    "header = []\n",
    "header_raw = job_vacancy_raw_df_transpose.iloc[0]\n",
    "header_raw = header_raw.dropna().reset_index(drop = True)\n",
    "\n",
    "# Clean header\n",
    "for item in header_raw:\n",
    "    if item == header_raw[0]:\n",
    "        header.append(item)\n",
    "        continue\n",
    "    else:\n",
    "        item = item[:-3].rstrip()\n",
    "        header.append(item)\n",
    "job_vacancy_df = job_vacancy_raw_df_transpose.drop([\"National Occupational Classification 4\"], axis = \"index\")\n",
    "job_vacancy_df = job_vacancy_df.dropna(axis = 1)\n",
    "\n",
    "# Filter\n",
    "for column in job_vacancy_df.columns:\n",
    "    if job_vacancy_df[column].str.contains(\"Job vacancies\")[0]:\n",
    "        continue\n",
    "    else:\n",
    "        job_vacancy_df.drop([column], axis = 1, inplace = True)\n",
    "        \n",
    "# Apply header and clean\n",
    "job_vacancy_df.columns = header\n",
    "job_vacancy_df = job_vacancy_df.drop([\"Statistics\"], axis = \"index\")\n",
    "\n",
    "# Clean the letter\n",
    "for column in job_vacancy_df.columns:\n",
    "    job_vacancy_df[column] = job_vacancy_df[column].apply(lambda x: re.sub('\\D', '', x))\n"
   ]
  },
  {
   "cell_type": "code",
   "execution_count": 182,
   "metadata": {
    "scrolled": true
   },
   "outputs": [],
   "source": [
    "# Output the dataframe as a csv file\n",
    "job_vacancy_df.to_csv(\"Toronto_job_vacancy_clean.csv\")"
   ]
  },
  {
   "cell_type": "code",
   "execution_count": null,
   "metadata": {},
   "outputs": [],
   "source": []
  }
 ],
 "metadata": {
  "kernelspec": {
   "display_name": "PythonData",
   "language": "python",
   "name": "pythondata"
  },
  "language_info": {
   "codemirror_mode": {
    "name": "ipython",
    "version": 3
   },
   "file_extension": ".py",
   "mimetype": "text/x-python",
   "name": "python",
   "nbconvert_exporter": "python",
   "pygments_lexer": "ipython3",
   "version": "3.8.5"
  }
 },
 "nbformat": 4,
 "nbformat_minor": 4
}
