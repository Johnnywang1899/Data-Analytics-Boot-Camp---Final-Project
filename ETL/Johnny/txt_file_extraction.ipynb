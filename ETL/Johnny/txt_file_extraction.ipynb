{
 "cells": [
  {
   "cell_type": "code",
   "execution_count": 146,
   "metadata": {},
   "outputs": [],
   "source": [
    "# import libaries \n",
    "import numpy as np\n",
    "import pandas as pd\n",
    "# Read in text file\n",
    "file = open('Bank_list_Canada.txt', 'r')\n",
    "\n",
    "# Initialize variable\n",
    "Toronto_bank_address_raw = []\n",
    "line = file.readline()\n",
    "final_address_collection = []\n",
    "post_code_collection = []\n",
    "\n",
    "# Filter out the addresses including \"Toronto, ON\"\n",
    "while line:\n",
    "    if 'Toronto, ON' in line:\n",
    "        Toronto_bank_address_raw.append(line)\n",
    "        line = file.readline()\n",
    "    else:\n",
    "        line = file.readline()\n",
    "        \n",
    "# Exclude the first two items that are not in Toronto area due to file typo\n",
    "Toronto_bank_address_raw = Toronto_bank_address_raw[2:]\n",
    "\n",
    "# Process all the raw data and only extract address contents\n",
    "for address_raw in Toronto_bank_address_raw:\n",
    "    try:\n",
    "        address_temp = []\n",
    "        address_sample = address_raw.split(\",\")[:-2][0].split(\" \")[2:] + address_raw.split(\",\")[:-2][1:]\n",
    "        post_code_temp = address_raw.split(\",\")[-1].lstrip().split(\" \")[1:3]\n",
    "        post_code = ' '.join(post_code_temp)\n",
    "    # Note: the file has some typos not showing the full address --> index error\n",
    "    except IndexError:\n",
    "        continue\n",
    "    for item in address_sample:\n",
    "        item = item.lstrip()\n",
    "        address_temp.append(item)\n",
    "    address = ' '.join(address_temp)\n",
    "    final_address_collection.append(address)\n",
    "    post_code_collection.append(post_code)\n",
    "\n",
    "# Output the information as a dataframe\n",
    "final_address_df = pd.DataFrame({\"Address\" : final_address_collection, \"Post Code\" : post_code_collection})\n",
    "\n",
    "# Export the dataframe as a csv file\n",
    "final_address_df.to_csv(\"Toronto_bank_address.csv\", index = False)"
   ]
  }
 ],
 "metadata": {
  "kernelspec": {
   "display_name": "PythonData",
   "language": "python",
   "name": "pythondata"
  },
  "language_info": {
   "codemirror_mode": {
    "name": "ipython",
    "version": 3
   },
   "file_extension": ".py",
   "mimetype": "text/x-python",
   "name": "python",
   "nbconvert_exporter": "python",
   "pygments_lexer": "ipython3",
   "version": "3.8.5"
  }
 },
 "nbformat": 4,
 "nbformat_minor": 4
}
