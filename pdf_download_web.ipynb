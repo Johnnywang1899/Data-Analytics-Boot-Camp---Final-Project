{
 "cells": [
  {
   "cell_type": "markdown",
   "metadata": {},
   "source": [
    "# Download pdf files from web"
   ]
  },
  {
   "cell_type": "code",
   "execution_count": 1,
   "metadata": {},
   "outputs": [],
   "source": [
    "# Import library\n",
    "import requests"
   ]
  },
  {
   "cell_type": "code",
   "execution_count": 25,
   "metadata": {},
   "outputs": [],
   "source": [
    "# Create urls - Year 1996 to Year 1999\n",
    "# Initialize the variable naming \n",
    "years = 96\n",
    "months = 1\n",
    "urls = []\n",
    "\n",
    "for year in range(years, 100):\n",
    "    for month in range(months, 13):\n",
    "        if month < 10:\n",
    "            file_url = f'https://trreb.ca/files/market-stats/market-watch/mw{year}0{month}.pdf'\n",
    "        else:\n",
    "            file_url = f'https://trreb.ca/files/market-stats/market-watch/mw{year}{month}.pdf'\n",
    "        urls.append(file_url)\n",
    "        \n",
    "# Create urls - Year 2000 to Year 2021\n",
    "# Initialize the variable naming \n",
    "years = 0\n",
    "months = 1\n",
    "\n",
    "for year in range(years, 22):\n",
    "    for month in range(months, 13):\n",
    "        if year < 10 and month < 10:\n",
    "            file_url = f'https://trreb.ca/files/market-stats/market-watch/mw0{year}0{month}.pdf'\n",
    "        elif year < 10 and month >= 10:\n",
    "            file_url = f'https://trreb.ca/files/market-stats/market-watch/mw0{year}{month}.pdf'\n",
    "        elif year >= 10 and month < 10:\n",
    "            file_url = f'https://trreb.ca/files/market-stats/market-watch/mw{year}0{month}.pdf'\n",
    "        elif year >=10 and month >= 10:\n",
    "            file_url = f'https://trreb.ca/files/market-stats/market-watch/mw{year}{month}.pdf'\n",
    "        urls.append(file_url)\n",
    "\n",
    "# Get requests online and write into local place and save\n",
    "for url in urls:\n",
    "    file_name = url[-10:]\n",
    "    r = requests.get(url, stream = True)\n",
    "    with open(file_name, \"wb\") as pdf:\n",
    "        for chunk in r.iter_content(chunk_size = 1024):\n",
    "            if chunk:\n",
    "                pdf.write(chunk)"
   ]
  },
  {
   "cell_type": "code",
   "execution_count": null,
   "metadata": {},
   "outputs": [],
   "source": []
  }
 ],
 "metadata": {
  "kernelspec": {
   "display_name": "PythonData",
   "language": "python",
   "name": "pythondata"
  },
  "language_info": {
   "codemirror_mode": {
    "name": "ipython",
    "version": 3
   },
   "file_extension": ".py",
   "mimetype": "text/x-python",
   "name": "python",
   "nbconvert_exporter": "python",
   "pygments_lexer": "ipython3",
   "version": "3.8.5"
  }
 },
 "nbformat": 4,
 "nbformat_minor": 4
}
