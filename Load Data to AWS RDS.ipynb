{
 "cells": [
  {
   "cell_type": "code",
   "execution_count": 17,
   "metadata": {},
   "outputs": [],
   "source": [
    "# Import libraries\n",
    "import pandas as pd\n",
    "import credential as cd\n",
    "import time\n",
    "from sqlalchemy import create_engine"
   ]
  },
  {
   "cell_type": "code",
   "execution_count": 18,
   "metadata": {},
   "outputs": [],
   "source": [
    "# Create function to load data into SQL\n",
    "def load_data_to_sql(csv_path, table_name, server_name):\n",
    "    # Create a link for connection\n",
    "    link_sql = f\"postgres://{cd.sql_username}:{cd.sql_password}@{cd.sql_host}:{cd.sql_port}/{server_name}\"\n",
    "\n",
    "    # create a engine instance\n",
    "    engine = create_engine(link_sql)\n",
    "    \n",
    "    # Start to load while recording time\n",
    "    start_time = time.time()\n",
    "    for data in pd.read_csv(csv_path, chunksize = 1000000):\n",
    "        data.to_sql(name = table_name, con = engine, if_exists = \"append\")\n",
    "        end_time = time.time()\n",
    "        time_elapsed = end_time - start_time\n",
    "        print(time_elapsed)"
   ]
  },
  {
   "cell_type": "code",
   "execution_count": 19,
   "metadata": {},
   "outputs": [
    {
     "name": "stdout",
     "output_type": "stream",
     "text": [
      "3.718855857849121\n"
     ]
    }
   ],
   "source": [
    "# Load data\n",
    "load_data_to_sql(\"cleaned_selected_data.csv\", \"clean_data\", \"Toronto_forecast_features\")"
   ]
  },
  {
   "cell_type": "code",
   "execution_count": null,
   "metadata": {},
   "outputs": [],
   "source": []
  }
 ],
 "metadata": {
  "kernelspec": {
   "display_name": "PythonData",
   "language": "python",
   "name": "pythondata"
  },
  "language_info": {
   "codemirror_mode": {
    "name": "ipython",
    "version": 3
   },
   "file_extension": ".py",
   "mimetype": "text/x-python",
   "name": "python",
   "nbconvert_exporter": "python",
   "pygments_lexer": "ipython3",
   "version": "3.8.5"
  }
 },
 "nbformat": 4,
 "nbformat_minor": 4
}
